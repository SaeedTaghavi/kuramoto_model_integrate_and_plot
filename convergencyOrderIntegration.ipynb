{
 "cells": [
  {
   "cell_type": "code",
   "execution_count": 101,
   "metadata": {
    "collapsed": true
   },
   "outputs": [],
   "source": [
    "import numpy as np\n",
    "from scipy.integrate import odeint\n",
    "from ddeint import ddeint\n",
    "import matplotlib.pyplot as plt"
   ]
  },
  {
   "cell_type": "markdown",
   "metadata": {
    "collapsed": true
   },
   "source": [
    "This notebook computes the convergency order (p) of odeint and ddeint according to \n",
    "[Richard L. Burden, J. Douglas Faires, Numerical Analysis, 2010]"
   ]
  },
  {
   "cell_type": "markdown",
   "metadata": {
    "collapsed": true
   },
   "source": [
    "odeint is tested against x'(t) = x"
   ]
  },
  {
   "cell_type": "code",
   "execution_count": 102,
   "metadata": {},
   "outputs": [],
   "source": [
    "def f1(x, t):\n",
    "    return x\n",
    "\n",
    "x0 = 1\n",
    "tf = 10\n",
    "sol_ref = np.exp(tf)"
   ]
  },
  {
   "cell_type": "code",
   "execution_count": 103,
   "metadata": {},
   "outputs": [
    {
     "name": "stdout",
     "output_type": "stream",
     "text": [
      "h= 1.00e-01 ,  error= 3.35e-04\n",
      "h= 5.00e-02 ,  error= 2.04e-04 , p= 7.21e-01\n",
      "h= 2.50e-02 ,  error= 2.31e-04 , p=-1.80e-01\n",
      "h= 1.25e-02 ,  error= 6.74e-05 , p= 1.78e+00\n",
      "h= 6.25e-03 ,  error= 5.24e-04 , p=-2.96e+00\n",
      "h= 3.13e-03 ,  error= 1.40e-04 , p= 1.90e+00\n",
      "h= 1.56e-03 ,  error= 1.75e-05 , p= 3.00e+00\n",
      "h= 7.81e-04 ,  error= 2.20e-06 , p= 2.99e+00\n"
     ]
    }
   ],
   "source": [
    "h = 0.1\n",
    "for i in range(8):\n",
    "    t = np.arange(0, tf + h / 2, h)\n",
    "    x = odeint(f1, x0, t, hmax= h)\n",
    "    if i == 0:\n",
    "        auxErr1 = abs( x[-1][0] - sol_ref)\n",
    "        print(\"h=%9.2e\"% (h), \",  error=%9.2e\"% (auxErr1))\n",
    "    else:\n",
    "        auxErr2 = abs( x[-1][0] - sol_ref)\n",
    "        p = np.log(auxErr1 / auxErr2) / np.log(2.0)\n",
    "        print(\"h=%9.2e\"% (h), \",  error=%9.2e\"% (auxErr2), \", p=%9.2e\"% (p))\n",
    "        auxErr1 = auxErr2\n",
    "    h = h / 2"
   ]
  },
  {
   "cell_type": "markdown",
   "metadata": {
    "collapsed": true
   },
   "source": [
    "ddeint is tested against x'(t) = x(t- pi/2)"
   ]
  },
  {
   "cell_type": "code",
   "execution_count": 104,
   "metadata": {
    "collapsed": true
   },
   "outputs": [],
   "source": [
    "def f2(x, t):\n",
    "    return -x(t - np.pi / 2)\n",
    "hist = lambda t: np.sin(t)"
   ]
  },
  {
   "cell_type": "code",
   "execution_count": 108,
   "metadata": {},
   "outputs": [],
   "source": [
    "h = np.pi / 2\n",
    "sol_ref = np.sin(tf)\n",
    "tf = 10.0 * h"
   ]
  },
  {
   "cell_type": "code",
   "execution_count": 109,
   "metadata": {},
   "outputs": [
    {
     "name": "stdout",
     "output_type": "stream",
     "text": [
      "h= 1.57e+00 ,  error= 3.18e-01\n",
      "h= 7.85e-01 ,  error= 1.85e-01 , p= 7.85e-01\n",
      "h= 3.93e-01 ,  error= 5.59e-02 , p= 1.73e+00\n",
      "h= 1.96e-01 ,  error= 1.47e-02 , p= 1.93e+00\n",
      "h= 9.82e-02 ,  error= 3.68e-03 , p= 1.99e+00\n",
      "h= 4.91e-02 ,  error= 9.46e-04 , p= 1.96e+00\n",
      "h= 2.45e-02 ,  error= 2.11e-04 , p= 2.17e+00\n",
      "h= 1.23e-02 ,  error= 4.78e-05 , p= 2.14e+00\n"
     ]
    }
   ],
   "source": [
    "for i in range(8):\n",
    "    t = np.arange(0, tf + h / 2, h)\n",
    "    x = ddeint(f2, hist, t)\n",
    "    if i == 0:\n",
    "        auxErr1 = abs( x[-1] - sol_ref)\n",
    "        print(\"h=%9.2e\"% (h), \",  error=%9.2e\"% (auxErr1))\n",
    "    else:\n",
    "        auxErr2 = abs( x[-1] - sol_ref)\n",
    "        p = np.log(auxErr1 / auxErr2) / np.log(2.0)\n",
    "        print(\"h=%9.2e\"% (h), \",  error=%9.2e\"% (auxErr2), \", p=%9.2e\"% (p))\n",
    "        auxErr1 = auxErr2\n",
    "    h = h / 2\n",
    "    "
   ]
  },
  {
   "cell_type": "code",
   "execution_count": null,
   "metadata": {
    "collapsed": true
   },
   "outputs": [],
   "source": []
  },
  {
   "cell_type": "code",
   "execution_count": null,
   "metadata": {
    "collapsed": true
   },
   "outputs": [],
   "source": []
  }
 ],
 "metadata": {
  "kernelspec": {
   "display_name": "Python 3",
   "language": "python",
   "name": "python3"
  },
  "language_info": {
   "codemirror_mode": {
    "name": "ipython",
    "version": 3
   },
   "file_extension": ".py",
   "mimetype": "text/x-python",
   "name": "python",
   "nbconvert_exporter": "python",
   "pygments_lexer": "ipython3",
   "version": "3.6.1"
  }
 },
 "nbformat": 4,
 "nbformat_minor": 2
}
